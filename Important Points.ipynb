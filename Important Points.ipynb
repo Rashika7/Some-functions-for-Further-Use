{
 "cells": [
  {
   "cell_type": "code",
   "execution_count": 2,
   "id": "86bb717e",
   "metadata": {},
   "outputs": [
    {
     "name": "stdout",
     "output_type": "stream",
     "text": [
      "enter first name:Rashika\n",
      "enter last name:Gupta\n",
      "correct name\n"
     ]
    }
   ],
   "source": [
    "# INPUT FUNCTION USE\n",
    "FIRSTNAME=input(\"enter first name:\")\n",
    "LASTNAME=input(\"enter last name:\")\n",
    "\n",
    "if FIRSTNAME==\"Rashika\" and LASTNAME==\"Gupta\":\n",
    "    print(\"correct name\")\n",
    "else:\n",
    "    print(\"incorrect name\")"
   ]
  },
  {
   "cell_type": "code",
   "execution_count": 4,
   "id": "3114a832",
   "metadata": {},
   "outputs": [
    {
     "name": "stdout",
     "output_type": "stream",
     "text": [
      "speed is less than final speed\n",
      "speed is less than final speed\n",
      "speed is less than final speed\n",
      "speed is less than final speed\n",
      "speed is less than final speed\n",
      "speed is less than final speed\n",
      "speed is less than final speed\n",
      "speed is less than final speed\n",
      "speed is less than final speed\n"
     ]
    }
   ],
   "source": [
    "# while loop use\n",
    "in_speed =0\n",
    "fi_speed =100\n",
    "count=1\n",
    "while in_speed < fi_speed:\n",
    "    print(\"speed is less than final speed\")\n",
    "    count=count+1\n",
    "    if count==10:\n",
    "        break"
   ]
  },
  {
   "cell_type": "code",
   "execution_count": 5,
   "id": "4d8ae699",
   "metadata": {},
   "outputs": [
    {
     "name": "stdout",
     "output_type": "stream",
     "text": [
      "1\n",
      "2\n",
      "3\n",
      "4\n",
      "loop end\n"
     ]
    }
   ],
   "source": [
    "n=5\n",
    "i=1\n",
    "while i<n:\n",
    "    print(i)\n",
    "    i+=1\n",
    "else:\n",
    "    print(\"loop end\")"
   ]
  },
  {
   "cell_type": "code",
   "execution_count": 9,
   "id": "6285001b",
   "metadata": {},
   "outputs": [
    {
     "name": "stdout",
     "output_type": "stream",
     "text": [
      "R\n",
      "S\n",
      "H\n",
      "I\n",
      "K\n",
      "this is an else condition\n"
     ]
    }
   ],
   "source": [
    "R= \"RASHIKA\"\n",
    "for i in R:\n",
    "    if i == \"A\":\n",
    "        continue\n",
    "    print(i)\n",
    "else:\n",
    "    if i==\"S\":\n",
    "        print(\"s is third character in string\")\n",
    "    print(\"this is an else condition\")\n",
    "    "
   ]
  },
  {
   "cell_type": "code",
   "execution_count": 10,
   "id": "b5bf286e",
   "metadata": {},
   "outputs": [],
   "source": [
    "r= \"rashika\"\n",
    "rr=\" \"\n",
    "for i in range(len(r)):\n",
    "    if r[i]==\"a\":\n",
    "        continue\n",
    "    else: \n",
    "        rr=rr+r[i]"
   ]
  },
  {
   "cell_type": "code",
   "execution_count": 11,
   "id": "01a6adc4",
   "metadata": {},
   "outputs": [
    {
     "data": {
      "text/plain": [
       "' rshik'"
      ]
     },
     "execution_count": 11,
     "metadata": {},
     "output_type": "execute_result"
    }
   ],
   "source": [
    "rr"
   ]
  },
  {
   "cell_type": "code",
   "execution_count": 15,
   "id": "d5a4ea9d",
   "metadata": {},
   "outputs": [
    {
     "name": "stdout",
     "output_type": "stream",
     "text": [
      "enter the number:8\n",
      "* * * * * * * * * * * * * * * \n",
      "  * * * * * * * * * * * * * \n",
      "    * * * * * * * * * * * \n",
      "      * * * * * * * * * \n",
      "        * * * * * * * \n",
      "          * * * * * \n",
      "            * * * \n",
      "              * \n"
     ]
    }
   ],
   "source": [
    "n=int(input(\"enter the number:\"))\n",
    "for i in range(n,0,-1):\n",
    "    for j in range(n-i):\n",
    "        print(\" \", end=\" \")\n",
    "        \n",
    "    for j in range(2*i-1):\n",
    "        print(\"*\",end=\" \")\n",
    "    print()"
   ]
  },
  {
   "cell_type": "code",
   "execution_count": 18,
   "id": "7e89df17",
   "metadata": {},
   "outputs": [
    {
     "name": "stdout",
     "output_type": "stream",
     "text": [
      "enter the number:9\n",
      "        * \n",
      "       * * \n",
      "      * * * \n",
      "     * * * * \n",
      "    * * * * * \n",
      "   * * * * * * \n",
      "  * * * * * * * \n",
      " * * * * * * * * \n",
      "* * * * * * * * * \n"
     ]
    }
   ],
   "source": [
    "n=int(input(\"enter the number:\"))\n",
    "i=0\n",
    "while i< n:\n",
    "    print(\" \" * (n-i-1) + \"* \"*(i+1))\n",
    "    i+=1"
   ]
  },
  {
   "cell_type": "code",
   "execution_count": 19,
   "id": "b91cca66",
   "metadata": {},
   "outputs": [
    {
     "name": "stdout",
     "output_type": "stream",
     "text": [
      "     * \n",
      "    * * \n",
      "   * * * \n",
      "  * * * * \n",
      " * * * * * \n",
      "* * * * * * \n"
     ]
    }
   ],
   "source": [
    "n=6\n",
    "i=0\n",
    "while i< n:\n",
    "    print(\" \" * (n-i-1) + \"* \"*(i+1))\n",
    "    i+=1"
   ]
  },
  {
   "cell_type": "code",
   "execution_count": 22,
   "id": "dc1556c4",
   "metadata": {},
   "outputs": [
    {
     "name": "stdout",
     "output_type": "stream",
     "text": [
      "<class 'int'>\n",
      "<class 'int'>\n",
      "<class 'int'>\n",
      "<class 'str'>\n",
      "<class 'str'>\n"
     ]
    }
   ],
   "source": [
    "l=[1,2,3,\"ddf\",\"hhhhh\"]\n",
    "for i in l:\n",
    "    print(type(i))"
   ]
  },
  {
   "cell_type": "code",
   "execution_count": 23,
   "id": "63f3d598",
   "metadata": {},
   "outputs": [
    {
     "data": {
      "text/plain": [
       "5"
      ]
     },
     "execution_count": 23,
     "metadata": {},
     "output_type": "execute_result"
    }
   ],
   "source": [
    "l=[1,2,3,\"ddf\",\"hhhhh\",[5,6,7]]\n",
    "l[5][0]"
   ]
  },
  {
   "cell_type": "code",
   "execution_count": 26,
   "id": "615be1b3",
   "metadata": {},
   "outputs": [
    {
     "ename": "SyntaxError",
     "evalue": "invalid syntax (Temp/ipykernel_6944/3277975261.py, line 3)",
     "output_type": "error",
     "traceback": [
      "\u001b[1;36m  File \u001b[1;32m\"C:\\Users\\Rishabh\\AppData\\Local\\Temp/ipykernel_6944/3277975261.py\"\u001b[1;36m, line \u001b[1;32m3\u001b[0m\n\u001b[1;33m    pip install PyPDF2\u001b[0m\n\u001b[1;37m        ^\u001b[0m\n\u001b[1;31mSyntaxError\u001b[0m\u001b[1;31m:\u001b[0m invalid syntax\n"
     ]
    }
   ],
   "source": [
    "# Code to read pdf files in text. \n",
    "\n",
    "pip install PyPDF2\n",
    "import PyPDF2 as P2\n",
    "PDF file = open('pdf name', 'rb')\n",
    "Pdf read = P2.pdffilereader(PDF file)\n",
    "X= pdfread.getpage(1)\n",
    "print(X.extracttext(())\n",
    "print(pdfread.getDocumentInfo())\n",
    "print(pdfread.getNumpages())\n",
    "i=0\n",
    "While i < pdfread.getNumPages():\n",
    "Pageinfo=pdfread.getpage(i)\n",
    "print(pageinfo.extracttext())\n",
    "i=i+1"
   ]
  },
  {
   "cell_type": "markdown",
   "id": "143fb6f5",
   "metadata": {},
   "source": [
    "# To resolve error In 26, need to enter pdf name."
   ]
  }
 ],
 "metadata": {
  "kernelspec": {
   "display_name": "Python 3 (ipykernel)",
   "language": "python",
   "name": "python3"
  },
  "language_info": {
   "codemirror_mode": {
    "name": "ipython",
    "version": 3
   },
   "file_extension": ".py",
   "mimetype": "text/x-python",
   "name": "python",
   "nbconvert_exporter": "python",
   "pygments_lexer": "ipython3",
   "version": "3.9.7"
  }
 },
 "nbformat": 4,
 "nbformat_minor": 5
}
